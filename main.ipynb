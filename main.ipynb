{
 "cells": [
  {
   "cell_type": "code",
   "execution_count": 79,
   "metadata": {
    "collapsed": true,
    "pycharm": {
     "is_executing": false
    }
   },
   "outputs": [],
   "source": [
    "import pandas as pd\n",
    "import numpy as np"
   ]
  },
  {
   "cell_type": "code",
   "execution_count": 41,
   "outputs": [],
   "source": [
    "data = pd.read_csv(\"kopia_udarnosc_do_obrobienia.csv\")\n",
    "wytopy = ['W1', 'W2', 'W3']\n",
    "data['TA\\''] = data['TA\\''].fillna(-1)"
   ],
   "metadata": {
    "collapsed": false,
    "pycharm": {
     "name": "#%%\n",
     "is_executing": false
    }
   }
  },
  {
   "cell_type": "code",
   "execution_count": 89,
   "outputs": [
    {
     "data": {
      "text/plain": "array([['WI', '830', '-1.0', '300', '8'],\n       ['WI', '830', '-1.0', '300', '16'],\n       ['WI', '830', '-1.0', '300', '32'],\n       ['WI', '830', '-1.0', '300', '64'],\n       ['WI', '830', '-1.0', '400', '8'],\n       ['WI', '830', '-1.0', '400', '16'],\n       ['WI', '830', '-1.0', '400', '32'],\n       ['WI', '830', '-1.0', '400', '64'],\n       ['WI', '860', '-1.0', '300', '8'],\n       ['WI', '860', '-1.0', '300', '16'],\n       ['WI', '860', '-1.0', '300', '32'],\n       ['WI', '860', '-1.0', '300', '64'],\n       ['WI', '860', '-1.0', '400', '8'],\n       ['WI', '860', '-1.0', '400', '16'],\n       ['WI', '860', '-1.0', '400', '32'],\n       ['WI', '860', '-1.0', '400', '64'],\n       ['WI', '900', '-1.0', '300', '8'],\n       ['WI', '900', '-1.0', '300', '16'],\n       ['WI', '900', '-1.0', '300', '32'],\n       ['WI', '900', '-1.0', '300', '64'],\n       ['WI', '900', '-1.0', '400', '8'],\n       ['WI', '900', '-1.0', '400', '16'],\n       ['WI', '900', '-1.0', '400', '32'],\n       ['WI', '900', '-1.0', '400', '64'],\n       ['WII', '950', '830.0', '300', '8'],\n       ['WII', '950', '830.0', '300', '16'],\n       ['WII', '950', '830.0', '300', '32'],\n       ['WII', '950', '830.0', '300', '64'],\n       ['WII', '950', '830.0', '400', '8'],\n       ['WII', '950', '830.0', '400', '16'],\n       ['WII', '950', '830.0', '400', '32'],\n       ['WII', '950', '830.0', '400', '64'],\n       ['WII', '950', '860.0', '300', '8'],\n       ['WII', '950', '860.0', '300', '16'],\n       ['WII', '950', '860.0', '300', '32'],\n       ['WII', '950', '860.0', '300', '64'],\n       ['WII', '950', '860.0', '400', '8'],\n       ['WII', '950', '860.0', '400', '16'],\n       ['WII', '950', '860.0', '400', '32'],\n       ['WII', '950', '860.0', '400', '64'],\n       ['WII', '950', '900.0', '300', '8'],\n       ['WII', '950', '900.0', '300', '16'],\n       ['WII', '950', '900.0', '300', '32'],\n       ['WII', '950', '900.0', '300', '64'],\n       ['WII', '950', '900.0', '400', '8'],\n       ['WII', '950', '900.0', '400', '16'],\n       ['WII', '950', '900.0', '400', '32'],\n       ['WII', '950', '900.0', '400', '64']], dtype='<U5')"
     },
     "metadata": {},
     "output_type": "execute_result",
     "execution_count": 89
    }
   ],
   "source": [
    "groupby = data.groupby(['Wariant', 'TA', 'TA\\'', 'TAF', 'tAF'])\n",
    "data_w1 = groupby.W1.mean()\n",
    "data_w2 = groupby.W2.mean()\n",
    "data_w3 = groupby.W3.mean()\n",
    "\n",
    "for wytop in wytopy:\n",
    "    data_w = groupby[wytop].mean()\n",
    "\n",
    "w1 = np.array(list(map(list, data_w1.index.values)))\n",
    "w1"
   ],
   "metadata": {
    "collapsed": false,
    "pycharm": {
     "name": "#%%\n",
     "is_executing": false
    }
   }
  },
  {
   "cell_type": "code",
   "execution_count": 84,
   "outputs": [
    {
     "data": {
      "text/plain": "array([ 6.4       ,  6.66666667,  6.96666667,  6.53333333, 14.9       ,\n       15.1       , 12.9       ,  9.13333333,  6.23333333,  6.76666667,\n        6.13333333,  5.93333333, 13.06666667, 13.66666667, 14.13333333,\n       11.73333333,  5.66666667,  6.9       ,  7.03333333,  6.46666667,\n       11.2       , 13.5       , 14.        , 13.        ,  7.63333333,\n        8.5       ,  9.6       ,  8.8       , 16.46666667, 16.73333333,\n       15.56666667, 13.03333333,  7.03333333,  7.2       ,  7.16666667,\n        8.16666667, 16.2       , 16.6       , 15.46666667,  9.76666667,\n        7.56666667,  7.73333333,  7.16666667,  6.73333333, 15.23333333,\n       16.83333333, 15.96666667, 14.23333333])"
     },
     "metadata": {},
     "output_type": "execute_result",
     "execution_count": 84
    }
   ],
   "source": [],
   "metadata": {
    "collapsed": false,
    "pycharm": {
     "name": "#%%\n",
     "is_executing": false
    }
   }
  },
  {
   "cell_type": "code",
   "execution_count": 90,
   "outputs": [
    {
     "data": {
      "text/plain": "array([['WI', '830', '-1.0', '300', '8', '6.3999999999999995'],\n       ['WI', '830', '-1.0', '300', '16', '6.666666666666667'],\n       ['WI', '830', '-1.0', '300', '32', '6.966666666666666'],\n       ['WI', '830', '-1.0', '300', '64', '6.533333333333334'],\n       ['WI', '830', '-1.0', '400', '8', '14.9'],\n       ['WI', '830', '-1.0', '400', '16', '15.1'],\n       ['WI', '830', '-1.0', '400', '32', '12.9'],\n       ['WI', '830', '-1.0', '400', '64', '9.133333333333333'],\n       ['WI', '860', '-1.0', '300', '8', '6.233333333333333'],\n       ['WI', '860', '-1.0', '300', '16', '6.766666666666666'],\n       ['WI', '860', '-1.0', '300', '32', '6.133333333333333'],\n       ['WI', '860', '-1.0', '300', '64', '5.933333333333334'],\n       ['WI', '860', '-1.0', '400', '8', '13.066666666666668'],\n       ['WI', '860', '-1.0', '400', '16', '13.666666666666666'],\n       ['WI', '860', '-1.0', '400', '32', '14.133333333333333'],\n       ['WI', '860', '-1.0', '400', '64', '11.733333333333334'],\n       ['WI', '900', '-1.0', '300', '8', '5.666666666666667'],\n       ['WI', '900', '-1.0', '300', '16', '6.8999999999999995'],\n       ['WI', '900', '-1.0', '300', '32', '7.033333333333334'],\n       ['WI', '900', '-1.0', '300', '64', '6.466666666666666'],\n       ['WI', '900', '-1.0', '400', '8', '11.200000000000001'],\n       ['WI', '900', '-1.0', '400', '16', '13.5'],\n       ['WI', '900', '-1.0', '400', '32', '14.0'],\n       ['WI', '900', '-1.0', '400', '64', '13.0'],\n       ['WII', '950', '830.0', '300', '8', '7.633333333333333'],\n       ['WII', '950', '830.0', '300', '16', '8.5'],\n       ['WII', '950', '830.0', '300', '32', '9.6'],\n       ['WII', '950', '830.0', '300', '64', '8.799999999999999'],\n       ['WII', '950', '830.0', '400', '8', '16.46666666666667'],\n       ['WII', '950', '830.0', '400', '16', '16.73333333333333'],\n       ['WII', '950', '830.0', '400', '32', '15.566666666666668'],\n       ['WII', '950', '830.0', '400', '64', '13.033333333333333'],\n       ['WII', '950', '860.0', '300', '8', '7.033333333333334'],\n       ['WII', '950', '860.0', '300', '16', '7.2'],\n       ['WII', '950', '860.0', '300', '32', '7.166666666666667'],\n       ['WII', '950', '860.0', '300', '64', '8.166666666666666'],\n       ['WII', '950', '860.0', '400', '8', '16.2'],\n       ['WII', '950', '860.0', '400', '16', '16.6'],\n       ['WII', '950', '860.0', '400', '32', '15.466666666666669'],\n       ['WII', '950', '860.0', '400', '64', '9.766666666666666'],\n       ['WII', '950', '900.0', '300', '8', '7.566666666666666'],\n       ['WII', '950', '900.0', '300', '16', '7.733333333333334'],\n       ['WII', '950', '900.0', '300', '32', '7.166666666666667'],\n       ['WII', '950', '900.0', '300', '64', '6.733333333333334'],\n       ['WII', '950', '900.0', '400', '8', '15.233333333333333'],\n       ['WII', '950', '900.0', '400', '16', '16.833333333333332'],\n       ['WII', '950', '900.0', '400', '32', '15.966666666666667'],\n       ['WII', '950', '900.0', '400', '64', '14.233333333333334']],\n      dtype='<U32')"
     },
     "metadata": {},
     "output_type": "execute_result",
     "execution_count": 90
    }
   ],
   "source": [
    "w = np.c_[w1, np.array(data_w1.values)]\n",
    "w"
   ],
   "metadata": {
    "collapsed": false,
    "pycharm": {
     "name": "#%%\n",
     "is_executing": false
    }
   }
  },
  {
   "cell_type": "code",
   "execution_count": 67,
   "outputs": [
    {
     "traceback": [
      "\u001b[0;31m---------------------------------------------------------------------------\u001b[0m",
      "\u001b[0;31mKeyboardInterrupt\u001b[0m                         Traceback (most recent call last)",
      "\u001b[0;32m<ipython-input-67-1b5d2f7e4e01>\u001b[0m in \u001b[0;36m<module>\u001b[0;34m\u001b[0m\n\u001b[1;32m      1\u001b[0m \u001b[0mprepared_data\u001b[0m \u001b[0;34m=\u001b[0m \u001b[0;34m[\u001b[0m\u001b[0;34m]\u001b[0m\u001b[0;34m\u001b[0m\u001b[0;34m\u001b[0m\u001b[0m\n\u001b[1;32m      2\u001b[0m \u001b[0;34m\u001b[0m\u001b[0m\n\u001b[0;32m----> 3\u001b[0;31m \u001b[0mprepared_data\u001b[0m\u001b[0;34m.\u001b[0m\u001b[0mappend\u001b[0m\u001b[0;34m(\u001b[0m\u001b[0mdata_w1\u001b[0m\u001b[0;34m)\u001b[0m\u001b[0;34m\u001b[0m\u001b[0;34m\u001b[0m\u001b[0m\n\u001b[0m",
      "\u001b[0;32m<ipython-input-67-1b5d2f7e4e01>\u001b[0m in \u001b[0;36m<module>\u001b[0;34m\u001b[0m\n\u001b[1;32m      1\u001b[0m \u001b[0mprepared_data\u001b[0m \u001b[0;34m=\u001b[0m \u001b[0;34m[\u001b[0m\u001b[0;34m]\u001b[0m\u001b[0;34m\u001b[0m\u001b[0;34m\u001b[0m\u001b[0m\n\u001b[1;32m      2\u001b[0m \u001b[0;34m\u001b[0m\u001b[0m\n\u001b[0;32m----> 3\u001b[0;31m \u001b[0mprepared_data\u001b[0m\u001b[0;34m.\u001b[0m\u001b[0mappend\u001b[0m\u001b[0;34m(\u001b[0m\u001b[0mdata_w1\u001b[0m\u001b[0;34m)\u001b[0m\u001b[0;34m\u001b[0m\u001b[0;34m\u001b[0m\u001b[0m\n\u001b[0m",
      "\u001b[0;32m~/.local/share/JetBrains/Toolbox/apps/PyCharm-P/ch-0/193.5662.61/plugins/python/helpers/pydev/_pydevd_bundle/pydevd_frame.py\u001b[0m in \u001b[0;36mtrace_dispatch\u001b[0;34m(self, frame, event, arg)\u001b[0m\n\u001b[1;32m    675\u001b[0m                 \u001b[0;31m# if thread has a suspend flag, we suspend with a busy wait\u001b[0m\u001b[0;34m\u001b[0m\u001b[0;34m\u001b[0m\u001b[0;34m\u001b[0m\u001b[0m\n\u001b[1;32m    676\u001b[0m                 \u001b[0;32mif\u001b[0m \u001b[0minfo\u001b[0m\u001b[0;34m.\u001b[0m\u001b[0mpydev_state\u001b[0m \u001b[0;34m==\u001b[0m \u001b[0mSTATE_SUSPEND\u001b[0m\u001b[0;34m:\u001b[0m\u001b[0;34m\u001b[0m\u001b[0;34m\u001b[0m\u001b[0m\n\u001b[0;32m--> 677\u001b[0;31m                     \u001b[0mself\u001b[0m\u001b[0;34m.\u001b[0m\u001b[0mdo_wait_suspend\u001b[0m\u001b[0;34m(\u001b[0m\u001b[0mthread\u001b[0m\u001b[0;34m,\u001b[0m \u001b[0mframe\u001b[0m\u001b[0;34m,\u001b[0m \u001b[0mevent\u001b[0m\u001b[0;34m,\u001b[0m \u001b[0marg\u001b[0m\u001b[0;34m)\u001b[0m\u001b[0;34m\u001b[0m\u001b[0;34m\u001b[0m\u001b[0m\n\u001b[0m\u001b[1;32m    678\u001b[0m                     \u001b[0;31m# No need to reset frame.f_trace to keep the same trace function.\u001b[0m\u001b[0;34m\u001b[0m\u001b[0;34m\u001b[0m\u001b[0;34m\u001b[0m\u001b[0m\n\u001b[1;32m    679\u001b[0m                     \u001b[0;32mreturn\u001b[0m \u001b[0mself\u001b[0m\u001b[0;34m.\u001b[0m\u001b[0mtrace_dispatch\u001b[0m\u001b[0;34m\u001b[0m\u001b[0;34m\u001b[0m\u001b[0m\n",
      "\u001b[0;32m~/.local/share/JetBrains/Toolbox/apps/PyCharm-P/ch-0/193.5662.61/plugins/python/helpers/pydev/_pydevd_bundle/pydevd_frame.py\u001b[0m in \u001b[0;36mdo_wait_suspend\u001b[0;34m(self, *args, **kwargs)\u001b[0m\n\u001b[1;32m    132\u001b[0m \u001b[0;34m\u001b[0m\u001b[0m\n\u001b[1;32m    133\u001b[0m     \u001b[0;32mdef\u001b[0m \u001b[0mdo_wait_suspend\u001b[0m\u001b[0;34m(\u001b[0m\u001b[0mself\u001b[0m\u001b[0;34m,\u001b[0m \u001b[0;34m*\u001b[0m\u001b[0margs\u001b[0m\u001b[0;34m,\u001b[0m \u001b[0;34m**\u001b[0m\u001b[0mkwargs\u001b[0m\u001b[0;34m)\u001b[0m\u001b[0;34m:\u001b[0m\u001b[0;34m\u001b[0m\u001b[0;34m\u001b[0m\u001b[0m\n\u001b[0;32m--> 134\u001b[0;31m         \u001b[0mself\u001b[0m\u001b[0;34m.\u001b[0m\u001b[0m_args\u001b[0m\u001b[0;34m[\u001b[0m\u001b[0;36m0\u001b[0m\u001b[0;34m]\u001b[0m\u001b[0;34m.\u001b[0m\u001b[0mdo_wait_suspend\u001b[0m\u001b[0;34m(\u001b[0m\u001b[0;34m*\u001b[0m\u001b[0margs\u001b[0m\u001b[0;34m,\u001b[0m \u001b[0;34m**\u001b[0m\u001b[0mkwargs\u001b[0m\u001b[0;34m)\u001b[0m\u001b[0;34m\u001b[0m\u001b[0;34m\u001b[0m\u001b[0m\n\u001b[0m\u001b[1;32m    135\u001b[0m \u001b[0;34m\u001b[0m\u001b[0m\n\u001b[1;32m    136\u001b[0m     \u001b[0;31m# IFDEF CYTHON\u001b[0m\u001b[0;34m\u001b[0m\u001b[0;34m\u001b[0m\u001b[0;34m\u001b[0m\u001b[0m\n",
      "\u001b[0;32m~/.local/share/JetBrains/Toolbox/apps/PyCharm-P/ch-0/193.5662.61/plugins/python/helpers/pydev/pydevd.py\u001b[0m in \u001b[0;36mdo_wait_suspend\u001b[0;34m(self, thread, frame, event, arg, send_suspend_message, is_unhandled_exception)\u001b[0m\n\u001b[1;32m   1097\u001b[0m \u001b[0;34m\u001b[0m\u001b[0m\n\u001b[1;32m   1098\u001b[0m         \u001b[0;32mwith\u001b[0m \u001b[0mself\u001b[0m\u001b[0;34m.\u001b[0m\u001b[0m_threads_suspended_single_notification\u001b[0m\u001b[0;34m.\u001b[0m\u001b[0mnotify_thread_suspended\u001b[0m\u001b[0;34m(\u001b[0m\u001b[0mthread_id\u001b[0m\u001b[0;34m,\u001b[0m \u001b[0mstop_reason\u001b[0m\u001b[0;34m)\u001b[0m\u001b[0;34m:\u001b[0m\u001b[0;34m\u001b[0m\u001b[0;34m\u001b[0m\u001b[0m\n\u001b[0;32m-> 1099\u001b[0;31m             \u001b[0mself\u001b[0m\u001b[0;34m.\u001b[0m\u001b[0m_do_wait_suspend\u001b[0m\u001b[0;34m(\u001b[0m\u001b[0mthread\u001b[0m\u001b[0;34m,\u001b[0m \u001b[0mframe\u001b[0m\u001b[0;34m,\u001b[0m \u001b[0mevent\u001b[0m\u001b[0;34m,\u001b[0m \u001b[0marg\u001b[0m\u001b[0;34m,\u001b[0m \u001b[0msuspend_type\u001b[0m\u001b[0;34m,\u001b[0m \u001b[0mfrom_this_thread\u001b[0m\u001b[0;34m)\u001b[0m\u001b[0;34m\u001b[0m\u001b[0;34m\u001b[0m\u001b[0m\n\u001b[0m\u001b[1;32m   1100\u001b[0m \u001b[0;34m\u001b[0m\u001b[0m\n\u001b[1;32m   1101\u001b[0m     \u001b[0;32mdef\u001b[0m \u001b[0m_do_wait_suspend\u001b[0m\u001b[0;34m(\u001b[0m\u001b[0mself\u001b[0m\u001b[0;34m,\u001b[0m \u001b[0mthread\u001b[0m\u001b[0;34m,\u001b[0m \u001b[0mframe\u001b[0m\u001b[0;34m,\u001b[0m \u001b[0mevent\u001b[0m\u001b[0;34m,\u001b[0m \u001b[0marg\u001b[0m\u001b[0;34m,\u001b[0m \u001b[0msuspend_type\u001b[0m\u001b[0;34m,\u001b[0m \u001b[0mfrom_this_thread\u001b[0m\u001b[0;34m)\u001b[0m\u001b[0;34m:\u001b[0m\u001b[0;34m\u001b[0m\u001b[0;34m\u001b[0m\u001b[0m\n",
      "\u001b[0;32m~/.local/share/JetBrains/Toolbox/apps/PyCharm-P/ch-0/193.5662.61/plugins/python/helpers/pydev/pydevd.py\u001b[0m in \u001b[0;36m_do_wait_suspend\u001b[0;34m(self, thread, frame, event, arg, suspend_type, from_this_thread)\u001b[0m\n\u001b[1;32m   1112\u001b[0m \u001b[0;34m\u001b[0m\u001b[0m\n\u001b[1;32m   1113\u001b[0m                 \u001b[0mself\u001b[0m\u001b[0;34m.\u001b[0m\u001b[0mprocess_internal_commands\u001b[0m\u001b[0;34m(\u001b[0m\u001b[0;34m)\u001b[0m\u001b[0;34m\u001b[0m\u001b[0;34m\u001b[0m\u001b[0m\n\u001b[0;32m-> 1114\u001b[0;31m                 \u001b[0mtime\u001b[0m\u001b[0;34m.\u001b[0m\u001b[0msleep\u001b[0m\u001b[0;34m(\u001b[0m\u001b[0;36m0.01\u001b[0m\u001b[0;34m)\u001b[0m\u001b[0;34m\u001b[0m\u001b[0;34m\u001b[0m\u001b[0m\n\u001b[0m\u001b[1;32m   1115\u001b[0m \u001b[0;34m\u001b[0m\u001b[0m\n\u001b[1;32m   1116\u001b[0m         \u001b[0mself\u001b[0m\u001b[0;34m.\u001b[0m\u001b[0mcancel_async_evaluation\u001b[0m\u001b[0;34m(\u001b[0m\u001b[0mget_current_thread_id\u001b[0m\u001b[0;34m(\u001b[0m\u001b[0mthread\u001b[0m\u001b[0;34m)\u001b[0m\u001b[0;34m,\u001b[0m \u001b[0mstr\u001b[0m\u001b[0;34m(\u001b[0m\u001b[0mid\u001b[0m\u001b[0;34m(\u001b[0m\u001b[0mframe\u001b[0m\u001b[0;34m)\u001b[0m\u001b[0;34m)\u001b[0m\u001b[0;34m)\u001b[0m\u001b[0;34m\u001b[0m\u001b[0;34m\u001b[0m\u001b[0m\n",
      "\u001b[0;31mKeyboardInterrupt\u001b[0m: "
     ],
     "ename": "KeyboardInterrupt",
     "evalue": "",
     "output_type": "error"
    }
   ],
   "source": [
    "prepared_data = []\n",
    "\n",
    "prepared_data.append(data_w1)"
   ],
   "metadata": {
    "collapsed": false,
    "pycharm": {
     "name": "#%%\n",
     "is_executing": false
    }
   }
  }
 ],
 "metadata": {
  "kernelspec": {
   "display_name": "Python 3",
   "language": "python",
   "name": "python3"
  },
  "language_info": {
   "codemirror_mode": {
    "name": "ipython",
    "version": 2
   },
   "file_extension": ".py",
   "mimetype": "text/x-python",
   "name": "python",
   "nbconvert_exporter": "python",
   "pygments_lexer": "ipython2",
   "version": "2.7.6"
  },
  "pycharm": {
   "stem_cell": {
    "cell_type": "raw",
    "source": [],
    "metadata": {
     "collapsed": false
    }
   }
  }
 },
 "nbformat": 4,
 "nbformat_minor": 0
}